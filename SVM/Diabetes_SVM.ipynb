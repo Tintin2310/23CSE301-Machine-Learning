{
  "nbformat": 4,
  "nbformat_minor": 0,
  "metadata": {
    "colab": {
      "provenance": []
    },
    "kernelspec": {
      "name": "python3",
      "display_name": "Python 3"
    },
    "language_info": {
      "name": "python"
    }
  },
  "cells": [
    {
      "cell_type": "code",
      "execution_count": 1,
      "metadata": {
        "id": "qO1FIsx-HibO"
      },
      "outputs": [],
      "source": [
        "import pandas as pd\n",
        "from sklearn.model_selection import train_test_split\n",
        "from sklearn.svm import SVC\n",
        "from sklearn.metrics import classification_report\n",
        "from sklearn import metrics\n",
        "import seaborn as sn\n",
        "import matplotlib.pyplot as plt\n",
        "from sklearn.preprocessing import StandardScaler\n"
      ]
    },
    {
      "cell_type": "code",
      "source": [
        "col_names = ['pregnant', 'glucose', 'bp', 'skin', 'insulin', 'bmi', 'pedigree', 'age', 'label']"
      ],
      "metadata": {
        "id": "DrHqgOAsJ5Pz"
      },
      "execution_count": 2,
      "outputs": []
    },
    {
      "cell_type": "code",
      "source": [
        "url = \"https://raw.githubusercontent.com/plotly/datasets/master/diabetes.csv\"\n",
        "data = pd.read_csv(url, names=col_names, header=0)"
      ],
      "metadata": {
        "id": "UQkXKHyYJ9oR"
      },
      "execution_count": 3,
      "outputs": []
    },
    {
      "cell_type": "code",
      "source": [
        "print(\"Dataset Shape:\", data.shape)\n",
        "print(data.head())"
      ],
      "metadata": {
        "colab": {
          "base_uri": "https://localhost:8080/",
          "height": 0
        },
        "id": "8chob3SoKCCp",
        "outputId": "36fb296e-c3ac-4309-9427-5ee2145f62f0"
      },
      "execution_count": 4,
      "outputs": [
        {
          "output_type": "stream",
          "name": "stdout",
          "text": [
            "Dataset Shape: (768, 9)\n",
            "   pregnant  glucose  bp  skin  insulin   bmi  pedigree  age  label\n",
            "0         6      148  72    35        0  33.6     0.627   50      1\n",
            "1         1       85  66    29        0  26.6     0.351   31      0\n",
            "2         8      183  64     0        0  23.3     0.672   32      1\n",
            "3         1       89  66    23       94  28.1     0.167   21      0\n",
            "4         0      137  40    35      168  43.1     2.288   33      1\n"
          ]
        }
      ]
    },
    {
      "cell_type": "code",
      "source": [
        "print(\"\\nMissing values:\\n\", data.isnull().sum())\n",
        "feature_cols = ['pregnant', 'insulin', 'bmi', 'age', 'glucose', 'bp', 'pedigree']\n",
        "X = data[feature_cols]\n",
        "y = data['label']\n"
      ],
      "metadata": {
        "colab": {
          "base_uri": "https://localhost:8080/",
          "height": 0
        },
        "id": "xQ0PbrakKEOI",
        "outputId": "2bdd601b-e79e-46be-c44c-07d31acaf814"
      },
      "execution_count": 5,
      "outputs": [
        {
          "output_type": "stream",
          "name": "stdout",
          "text": [
            "\n",
            "Missing values:\n",
            " pregnant    0\n",
            "glucose     0\n",
            "bp          0\n",
            "skin        0\n",
            "insulin     0\n",
            "bmi         0\n",
            "pedigree    0\n",
            "age         0\n",
            "label       0\n",
            "dtype: int64\n"
          ]
        }
      ]
    },
    {
      "cell_type": "code",
      "source": [
        "X_train, X_test, y_train, y_test = train_test_split(X, y, test_size=0.3, random_state=5)\n",
        "print(\"\\nShapes:\")\n",
        "print(X_train.shape, y_train.shape, X_test.shape, y_test.shape)"
      ],
      "metadata": {
        "colab": {
          "base_uri": "https://localhost:8080/",
          "height": 0
        },
        "id": "BRC3ni1CKH_Z",
        "outputId": "9db9fe73-3903-4410-92cf-f0cf64ac112a"
      },
      "execution_count": 6,
      "outputs": [
        {
          "output_type": "stream",
          "name": "stdout",
          "text": [
            "\n",
            "Shapes:\n",
            "(537, 7) (537,) (231, 7) (231,)\n"
          ]
        }
      ]
    },
    {
      "cell_type": "code",
      "source": [
        "sc = StandardScaler()\n",
        "X_train = sc.fit_transform(X_train)\n",
        "X_test = sc.transform(X_test)"
      ],
      "metadata": {
        "id": "QS3llNBIKKlp"
      },
      "execution_count": 7,
      "outputs": []
    },
    {
      "cell_type": "code",
      "source": [
        "model_rbf = SVC(kernel='rbf', random_state=0)\n",
        "model_rbf.fit(X_train, y_train)\n",
        "\n",
        "svc_pred_rbf = model_rbf.predict(X_test)\n",
        "print(\"\\nSVC Prediction (RBF):\", svc_pred_rbf)\n"
      ],
      "metadata": {
        "colab": {
          "base_uri": "https://localhost:8080/",
          "height": 0
        },
        "id": "XRixZu0hKNfo",
        "outputId": "10b57eeb-9ca3-463f-f6dd-05f5e1d9bb46"
      },
      "execution_count": 8,
      "outputs": [
        {
          "output_type": "stream",
          "name": "stdout",
          "text": [
            "\n",
            "SVC Prediction (RBF): [0 0 0 0 0 0 1 1 1 1 0 0 1 0 0 0 0 1 0 0 0 1 0 1 0 0 0 0 0 1 0 0 0 0 1 0 0\n",
            " 0 0 0 0 0 0 1 0 1 1 0 0 0 1 0 1 0 0 0 0 0 1 0 1 1 1 0 0 0 0 1 1 0 1 0 0 1\n",
            " 1 0 0 1 1 0 1 1 1 1 0 0 0 0 0 0 1 0 0 0 0 1 1 0 0 0 0 0 1 1 0 1 0 0 1 0 0\n",
            " 1 0 0 0 0 0 1 0 0 1 1 0 0 1 0 0 0 0 0 1 0 1 0 0 0 1 0 1 0 0 1 0 1 0 0 0 0\n",
            " 0 0 1 1 0 1 0 0 0 0 0 1 0 0 0 0 0 0 0 0 0 0 0 0 0 1 0 0 0 0 0 1 0 0 0 1 0\n",
            " 0 1 1 1 0 1 1 0 1 0 1 0 0 0 0 0 0 0 1 0 0 0 1 0 1 0 0 0 1 1 0 0 1 0 1 1 0\n",
            " 1 1 0 0 1 0 0 0 1]\n"
          ]
        }
      ]
    },
    {
      "cell_type": "code",
      "source": [
        "conf_mat_rbf = metrics.confusion_matrix(y_test, svc_pred_rbf)\n",
        "print(\"\\nSVC [kernel = rbf]\")\n",
        "print(\"Confusion Matrix:\\n\", conf_mat_rbf)\n",
        "print(\"Accuracy Score:\", metrics.accuracy_score(y_test, svc_pred_rbf))\n",
        "print(\"Accuracy in Percentage:\", int(metrics.accuracy_score(y_test, svc_pred_rbf)*100), \"%\")\n",
        "print(\"\\nClassification Report:\\n\", classification_report(y_test, svc_pred_rbf))\n",
        "\n"
      ],
      "metadata": {
        "colab": {
          "base_uri": "https://localhost:8080/",
          "height": 0
        },
        "id": "APQEv4BqKQQo",
        "outputId": "b09a8ea8-734f-4640-e343-c46581aa38d7"
      },
      "execution_count": 9,
      "outputs": [
        {
          "output_type": "stream",
          "name": "stdout",
          "text": [
            "\n",
            "SVC [kernel = rbf]\n",
            "Confusion Matrix:\n",
            " [[135  25]\n",
            " [ 22  49]]\n",
            "Accuracy Score: 0.7965367965367965\n",
            "Accuracy in Percentage: 79 %\n",
            "\n",
            "Classification Report:\n",
            "               precision    recall  f1-score   support\n",
            "\n",
            "           0       0.86      0.84      0.85       160\n",
            "           1       0.66      0.69      0.68        71\n",
            "\n",
            "    accuracy                           0.80       231\n",
            "   macro avg       0.76      0.77      0.76       231\n",
            "weighted avg       0.80      0.80      0.80       231\n",
            "\n"
          ]
        }
      ]
    },
    {
      "cell_type": "code",
      "source": [
        "conf_mat_df = pd.crosstab(y_test, svc_pred_rbf, rownames=['Actual'], colnames=['Predicted'])\n",
        "sn.heatmap(conf_mat_df, annot=True, cmap=\"Blues\").set(title='SVC [rbf]')\n",
        "plt.show()"
      ],
      "metadata": {
        "colab": {
          "base_uri": "https://localhost:8080/",
          "height": 472
        },
        "id": "8i0oE2cPKSsY",
        "outputId": "cca0ec34-0386-49f6-af61-5d28f100dccc"
      },
      "execution_count": 10,
      "outputs": [
        {
          "output_type": "display_data",
          "data": {
            "text/plain": [
              "<Figure size 640x480 with 2 Axes>"
            ],
            "image/png": "[encoded data removed]"
          },
          "metadata": {}
        }
      ]
    },
    {
      "cell_type": "code",
      "source": [
        "model_linear = SVC(kernel='linear', random_state=0)\n",
        "model_linear.fit(X_train, y_train)\n",
        "\n",
        "svc_pred_linear = model_linear.predict(X_test)\n",
        "print(\"\\nSVC Prediction (Linear):\", svc_pred_linear)\n"
      ],
      "metadata": {
        "colab": {
          "base_uri": "https://localhost:8080/",
          "height": 0
        },
        "id": "mvkxLKcgKVD5",
        "outputId": "8b873be4-bf14-4d15-94e5-1f8e0b55c1d1"
      },
      "execution_count": 11,
      "outputs": [
        {
          "output_type": "stream",
          "name": "stdout",
          "text": [
            "\n",
            "SVC Prediction (Linear): [0 0 0 0 0 0 1 1 1 0 0 0 1 0 0 0 0 1 0 0 0 1 0 1 0 0 0 0 0 1 0 0 0 0 1 0 0\n",
            " 0 0 0 0 0 0 1 0 1 1 0 0 0 1 0 1 0 0 1 0 0 1 0 1 1 1 0 1 0 0 0 1 0 1 0 0 1\n",
            " 1 0 0 1 1 0 0 1 1 1 0 0 0 0 0 0 1 0 0 0 0 1 1 0 0 0 0 0 1 1 0 1 0 0 1 0 0\n",
            " 1 0 0 0 0 0 1 0 0 1 1 0 0 1 0 0 0 0 0 0 0 1 0 0 0 1 0 1 0 0 1 0 1 0 0 0 0\n",
            " 0 0 1 1 0 1 0 0 0 0 0 1 0 0 0 0 0 0 1 0 0 0 0 0 0 1 0 0 0 0 0 1 0 0 0 1 1\n",
            " 0 1 1 1 0 1 1 0 0 0 1 0 0 0 0 0 0 0 1 0 0 0 1 0 1 0 0 0 1 1 0 0 1 0 1 1 0\n",
            " 1 1 0 0 0 0 0 0 1]\n"
          ]
        }
      ]
    },
    {
      "cell_type": "code",
      "source": [
        "conf_mat_linear = metrics.confusion_matrix(y_test, svc_pred_linear)\n",
        "print(\"\\nSVC [kernel = linear]\")\n",
        "print(\"Confusion Matrix:\\n\", conf_mat_linear)\n",
        "print(\"Accuracy Score:\", metrics.accuracy_score(y_test, svc_pred_linear))\n",
        "print(\"Accuracy in Percentage:\", int(metrics.accuracy_score(y_test, svc_pred_linear)*100), \"%\")\n",
        "print(\"\\nClassification Report:\\n\", classification_report(y_test, svc_pred_linear))\n"
      ],
      "metadata": {
        "colab": {
          "base_uri": "https://localhost:8080/",
          "height": 0
        },
        "id": "zIqmR_nCKYtg",
        "outputId": "7af7c985-031c-4a84-da93-f360a14ffe99"
      },
      "execution_count": 12,
      "outputs": [
        {
          "output_type": "stream",
          "name": "stdout",
          "text": [
            "\n",
            "SVC [kernel = linear]\n",
            "Confusion Matrix:\n",
            " [[136  24]\n",
            " [ 23  48]]\n",
            "Accuracy Score: 0.7965367965367965\n",
            "Accuracy in Percentage: 79 %\n",
            "\n",
            "Classification Report:\n",
            "               precision    recall  f1-score   support\n",
            "\n",
            "           0       0.86      0.85      0.85       160\n",
            "           1       0.67      0.68      0.67        71\n",
            "\n",
            "    accuracy                           0.80       231\n",
            "   macro avg       0.76      0.76      0.76       231\n",
            "weighted avg       0.80      0.80      0.80       231\n",
            "\n"
          ]
        }
      ]
    },
    {
      "cell_type": "code",
      "source": [
        "conf_mat_df = pd.crosstab(y_test, svc_pred_linear, rownames=['Actual'], colnames=['Predicted'])\n",
        "sn.heatmap(conf_mat_df, annot=True, cmap=\"Greens\").set(title='SVC [linear]')\n",
        "plt.show()\n"
      ],
      "metadata": {
        "colab": {
          "base_uri": "https://localhost:8080/",
          "height": 472
        },
        "id": "C6sPMrbEKaNh",
        "outputId": "12a022db-a086-46dd-b12e-07652bc2e469"
      },
      "execution_count": 13,
      "outputs": [
        {
          "output_type": "display_data",
          "data": {
            "text/plain": [
              "<Figure size 640x480 with 2 Axes>"
            ],
            "image/png": "[encoded data removed]"
          },
          "metadata": {}
        }
      ]
    },
    {
      "cell_type": "code",
      "source": [],
      "metadata": {
        "id": "fyG9G2k8KcEo"
      },
      "execution_count": null,
      "outputs": []
    }
  ]
}